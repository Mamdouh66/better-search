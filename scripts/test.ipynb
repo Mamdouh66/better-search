{
 "cells": [
  {
   "cell_type": "code",
   "execution_count": 1,
   "metadata": {},
   "outputs": [],
   "source": [
    "import sys\n",
    "from pathlib import Path\n",
    "\n",
    "project_root = Path().absolute().parent\n",
    "sys.path.append(str(project_root))"
   ]
  },
  {
   "cell_type": "code",
   "execution_count": 2,
   "metadata": {},
   "outputs": [
    {
     "name": "stderr",
     "output_type": "stream",
     "text": [
      "/Users/mamdouh_malaa/opt/miniconda3/envs/better-search/lib/python3.11/site-packages/tqdm/auto.py:21: TqdmWarning: IProgress not found. Please update jupyter and ipywidgets. See https://ipywidgets.readthedocs.io/en/stable/user_install.html\n",
      "  from .autonotebook import tqdm as notebook_tqdm\n",
      "\u001b[32m2025-04-04 18:57:02.635\u001b[0m | \u001b[33m\u001b[1mWARNING \u001b[0m | \u001b[36mfastembed.embedding\u001b[0m:\u001b[36m<module>\u001b[0m:\u001b[36m7\u001b[0m - \u001b[33m\u001b[1mDefaultEmbedding, FlagEmbedding, JinaEmbedding are deprecated.Use from fastembed import TextEmbedding instead.\u001b[0m\n"
     ]
    }
   ],
   "source": [
    "from better_search.lib.vectorstore.hybrid_search import HybridSearch"
   ]
  },
  {
   "cell_type": "code",
   "execution_count": 3,
   "metadata": {},
   "outputs": [],
   "source": [
    "from qdrant_client import QdrantClient, models\n",
    "from fastembed.embedding import TextEmbedding\n",
    "from fastembed.sparse.bm25 import Bm25\n",
    "\n",
    "from pydantic import BaseModel\n",
    "\n",
    "\n",
    "class HybridSearchResult(BaseModel):\n",
    "    podcast_id: int\n",
    "    episode_id: int\n",
    "    episode_title: str\n",
    "    podcast_title: str\n",
    "    podcast_author: str\n",
    "    podcast_categoires: list\n",
    "    sim_score: float"
   ]
  },
  {
   "cell_type": "code",
   "execution_count": 4,
   "metadata": {},
   "outputs": [],
   "source": [
    "client = QdrantClient(url=\"http://localhost:6333\")\n",
    "DENSE_MODEL = TextEmbedding(\n",
    "    \"sentence-transformers/paraphrase-multilingual-MiniLM-L12-v2\"\n",
    ")\n",
    "SPARSE_MODEL = Bm25(\"Qdrant/bm25\")"
   ]
  },
  {
   "cell_type": "code",
   "execution_count": 5,
   "metadata": {},
   "outputs": [],
   "source": [
    "collection_name = \"episodes_normalized_openai\""
   ]
  },
  {
   "cell_type": "code",
   "execution_count": 6,
   "metadata": {},
   "outputs": [],
   "source": [
    "query = \"فنجان استشاري أسري والصحة النفسية وطريقة تفكير العقل وطريقة حل المشاكل النفسية والتعامل معها\""
   ]
  },
  {
   "cell_type": "code",
   "execution_count": 7,
   "metadata": {},
   "outputs": [],
   "source": [
    "import unicodedata\n",
    "import re\n",
    "\n",
    "\n",
    "def normalize_arabic(text: str) -> str:\n",
    "    tashkeel = re.compile(r\"[\\u0617-\\u061A\\u064B-\\u0652]\")\n",
    "    text = tashkeel.sub(\"\", text)\n",
    "\n",
    "    text = re.sub(\"\\u0640\", \"\", text)\n",
    "\n",
    "    text = re.sub(\"[إأٱآا]\", \"ا\", text)\n",
    "    text = re.sub(\"ى\", \"ي\", text)\n",
    "    text = re.sub(\"ة\", \"ه\", text)\n",
    "\n",
    "    text = unicodedata.normalize(\"NFKC\", text)\n",
    "    return text\n",
    "\n",
    "\n",
    "query = normalize_arabic(query)"
   ]
  },
  {
   "cell_type": "code",
   "execution_count": 8,
   "metadata": {},
   "outputs": [],
   "source": [
    "from openai import OpenAI\n",
    "from better_search.core.config import settings\n",
    "\n",
    "oai_client = OpenAI(api_key=settings.OPENAI_API_KEY)"
   ]
  },
  {
   "cell_type": "code",
   "execution_count": 9,
   "metadata": {},
   "outputs": [],
   "source": [
    "res = oai_client.embeddings.create(\n",
    "    input=query, model=\"text-embedding-3-small\", dimensions=1536\n",
    ")"
   ]
  },
  {
   "cell_type": "code",
   "execution_count": 10,
   "metadata": {},
   "outputs": [],
   "source": [
    "# query_dense_vector = next(DENSE_MODEL.query_embed(query))\n",
    "query_dense_vector = res.data[0].embedding\n",
    "query_sparse_vector = next(SPARSE_MODEL.query_embed(query))"
   ]
  },
  {
   "cell_type": "code",
   "execution_count": 11,
   "metadata": {},
   "outputs": [
    {
     "data": {
      "text/plain": [
       "14"
      ]
     },
     "execution_count": 11,
     "metadata": {},
     "output_type": "execute_result"
    }
   ],
   "source": [
    "len(query.split())"
   ]
  },
  {
   "cell_type": "code",
   "execution_count": 12,
   "metadata": {},
   "outputs": [],
   "source": [
    "query_length = len(query.split())\n",
    "prefecth = []\n",
    "\n",
    "if query_length < 5:\n",
    "    prefecth = [\n",
    "        models.Prefetch(\n",
    "            query=models.SparseVector(**query_sparse_vector.as_object()),\n",
    "            using=\"fast-sparse-bm25\",\n",
    "            limit=40,\n",
    "            params=models.SearchParams(hnsw_ef=256, exact=True),\n",
    "        ),\n",
    "        models.Prefetch(\n",
    "            query=models.SparseVector(**query_sparse_vector.as_object()),\n",
    "            using=\"fast-sparse-bm25\",\n",
    "            limit=40,\n",
    "            params=models.SearchParams(hnsw_ef=256, exact=True),\n",
    "            filter=models.Filter(\n",
    "                should=models.FieldCondition(\n",
    "                    key=\"documents\", match=models.MatchAny(any=query.split())\n",
    "                )\n",
    "            ),\n",
    "        ),\n",
    "    ]\n",
    "else:\n",
    "    prefecth = [\n",
    "        models.Prefetch(\n",
    "            query=query_dense_vector,\n",
    "            using=\"text-dense\",\n",
    "            limit=15,\n",
    "            params=models.SearchParams(\n",
    "                hnsw_ef=256,\n",
    "                exact=True,\n",
    "            ),\n",
    "        ),\n",
    "        models.Prefetch(\n",
    "            query=models.SparseVector(**query_sparse_vector.as_object()),\n",
    "            using=\"text-sparse\",\n",
    "            limit=40,\n",
    "            params=models.SearchParams(hnsw_ef=256, exact=True),\n",
    "        ),\n",
    "        models.Prefetch(\n",
    "            query=models.SparseVector(**query_sparse_vector.as_object()),\n",
    "            using=\"text-sparse\",\n",
    "            limit=40,\n",
    "            params=models.SearchParams(hnsw_ef=256, exact=True),\n",
    "            filter=models.Filter(\n",
    "                should=models.FieldCondition(\n",
    "                    key=\"documents\", match=models.MatchAny(any=query.split())\n",
    "                )\n",
    "            ),\n",
    "        ),\n",
    "    ]"
   ]
  },
  {
   "cell_type": "code",
   "execution_count": 13,
   "metadata": {},
   "outputs": [],
   "source": [
    "# prefecth = [\n",
    "#     models.Prefetch(\n",
    "#         query=query_dense_vector,\n",
    "#         using=\"fast-paraphrase-multilingual-minilm-l12-v2\",\n",
    "#         limit=15,\n",
    "#         params=models.SearchParams(\n",
    "#             hnsw_ef=256,\n",
    "#             exact=True,\n",
    "#         ),\n",
    "#     ),\n",
    "#     models.Prefetch(\n",
    "#         query=models.SparseVector(**query_sparse_vector.as_object()),\n",
    "#         using=\"fast-sparse-bm25\",\n",
    "#         limit=40,\n",
    "#         params=models.SearchParams(hnsw_ef=256, exact=True),\n",
    "#     ),\n",
    "#     models.Prefetch(\n",
    "#         query=models.SparseVector(**query_sparse_vector.as_object()),\n",
    "#         using=\"fast-sparse-bm25\",\n",
    "#         limit=40,\n",
    "#         params=models.SearchParams(hnsw_ef=256, exact=True),\n",
    "#         filter=models.Filter(\n",
    "#             should=models.FieldCondition(\n",
    "#                 key=\"documents\", match=models.MatchAny(any=query.split())\n",
    "#             )\n",
    "#         ),\n",
    "#     ),\n",
    "# ]\n",
    "\n",
    "# prefetch = [\n",
    "#     models.Prefetch(\n",
    "#         query=query_dense_vector,\n",
    "#         using=\"fast-paraphrase-multilingual-minilm-l12-v2\",\n",
    "#         limit=40,\n",
    "#     ),\n",
    "#     models.Prefetch(\n",
    "#         query=models.SparseVector(**query_sparse_vector.as_object()),\n",
    "#         using=\"fast-sparse-bm25\",\n",
    "#         limit=40,\n",
    "#     ),\n",
    "# ]\n",
    "\n",
    "\n",
    "result = client.query_points(\n",
    "    collection_name=collection_name,\n",
    "    prefetch=prefecth,\n",
    "    query=models.FusionQuery(fusion=models.Fusion.RRF),\n",
    "    limit=10,\n",
    "    with_payload=True,\n",
    "    search_params=models.SearchParams(hnsw_ef=256, exact=True),\n",
    ")\n",
    "\n",
    "results = [\n",
    "    HybridSearchResult(\n",
    "        podcast_id=r.payload[\"podcast_id\"],\n",
    "        episode_id=r.payload[\"episode_id\"],\n",
    "        episode_title=r.payload[\"document\"].split(\"\\n\")[2],\n",
    "        podcast_title=r.payload[\"podcast_name\"],\n",
    "        podcast_author=r.payload[\"podcast_author\"],\n",
    "        podcast_categoires=r.payload[\"podcast_categories\"],\n",
    "        sim_score=r.score,\n",
    "    )\n",
    "    for r in result.points\n",
    "]"
   ]
  },
  {
   "cell_type": "code",
   "execution_count": 14,
   "metadata": {},
   "outputs": [
    {
     "name": "stdout",
     "output_type": "stream",
     "text": [
      "podcast_id=57 episode_id=1640 episode_title='182: اهم ما قاله ضيوف فنجان عن الصحه النفسيه' podcast_title='فنجان مع عبدالرحمن أبومالح' podcast_author='ثمانية/ thmanyah' podcast_categoires=['Society', 'Culture'] sim_score=0.8333334\n",
      "podcast_id=57 episode_id=1657 episode_title='167: اهميه الصحه النفسيه' podcast_title='فنجان مع عبدالرحمن أبومالح' podcast_author='ثمانية/ thmanyah' podcast_categoires=['Society', 'Culture'] sim_score=0.625\n",
      "podcast_id=57 episode_id=1636 episode_title='184: كيف نتجاوز جائحه كورونا نفسيا؟' podcast_title='فنجان مع عبدالرحمن أبومالح' podcast_author='ثمانية/ thmanyah' podcast_categoires=['Society', 'Culture'] sim_score=0.44444445\n",
      "podcast_id=57 episode_id=606 episode_title='كيف تفهم نفسك' podcast_title='فنجان مع عبدالرحمن أبومالح' podcast_author='ثمانية/ thmanyah' podcast_categoires=['Society', 'Culture'] sim_score=0.4166667\n",
      "podcast_id=57 episode_id=645 episode_title='324: هل انت مكتئب فعلا' podcast_title='فنجان مع عبدالرحمن أبومالح' podcast_author='ثمانية/ thmanyah' podcast_categoires=['Society', 'Culture'] sim_score=0.27142859\n",
      "podcast_id=82 episode_id=2131 episode_title='مريم العوضي' podcast_title='بدون ورق' podcast_author='فيصل العقل' podcast_categoires=['Society', 'Culture', 'Education', 'History'] sim_score=0.25\n",
      "podcast_id=57 episode_id=1587 episode_title='228: كيف اصبحنا جيلا هشا نفسيا' podcast_title='فنجان مع عبدالرحمن أبومالح' podcast_author='ثمانية/ thmanyah' podcast_categoires=['Society', 'Culture'] sim_score=0.24285716\n",
      "podcast_id=57 episode_id=631 episode_title='ايش حل التشتت وقله التركيز' podcast_title='فنجان مع عبدالرحمن أبومالح' podcast_author='ثمانية/ thmanyah' podcast_categoires=['Society', 'Culture'] sim_score=0.2\n",
      "podcast_id=112 episode_id=4788 episode_title='من هو الطبيب النفسي..مع د.مشعل العقيل' podcast_title='وجدان مع أسامة بن نجيفان' podcast_author='Mics | مايكس' podcast_categoires=['Health', 'Fitness', 'Mental'] sim_score=0.1969697\n",
      "podcast_id=82 episode_id=2022 episode_title='بناء القوه النفسيه | د.خالد بن حمد الجابر' podcast_title='بدون ورق' podcast_author='فيصل العقل' podcast_categoires=['Society', 'Culture', 'Education', 'History'] sim_score=0.14285715\n"
     ]
    }
   ],
   "source": [
    "for result in results:\n",
    "    # print(f\"{result.podcast_title}: {result.episode_title}\")\n",
    "    print(result)"
   ]
  },
  {
   "cell_type": "code",
   "execution_count": null,
   "metadata": {},
   "outputs": [],
   "source": []
  },
  {
   "cell_type": "code",
   "execution_count": null,
   "metadata": {},
   "outputs": [],
   "source": []
  }
 ],
 "metadata": {
  "kernelspec": {
   "display_name": "better-search",
   "language": "python",
   "name": "python3"
  },
  "language_info": {
   "codemirror_mode": {
    "name": "ipython",
    "version": 3
   },
   "file_extension": ".py",
   "mimetype": "text/x-python",
   "name": "python",
   "nbconvert_exporter": "python",
   "pygments_lexer": "ipython3",
   "version": "3.11.11"
  }
 },
 "nbformat": 4,
 "nbformat_minor": 2
}
