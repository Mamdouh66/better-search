{
 "cells": [
  {
   "cell_type": "code",
   "execution_count": 124,
   "metadata": {},
   "outputs": [],
   "source": [
    "import sys\n",
    "from pathlib import Path\n",
    "\n",
    "project_root = Path().absolute().parent\n",
    "sys.path.append(str(project_root))"
   ]
  },
  {
   "cell_type": "code",
   "execution_count": 125,
   "metadata": {},
   "outputs": [],
   "source": [
    "from better_search.lib.vectorstore.hybrid_search import HybridSearch"
   ]
  },
  {
   "cell_type": "code",
   "execution_count": 126,
   "metadata": {},
   "outputs": [],
   "source": [
    "from qdrant_client import QdrantClient, models\n",
    "from fastembed.embedding import TextEmbedding\n",
    "from fastembed.sparse.bm25 import Bm25\n",
    "\n",
    "from pydantic import BaseModel\n",
    "\n",
    "\n",
    "class HybridSearchResult(BaseModel):\n",
    "    podcast_id: int\n",
    "    episode_id: int\n",
    "    episode_title: str\n",
    "    podcast_title: str\n",
    "    podcast_author: str\n",
    "    podcast_categoires: list\n",
    "    sim_score: float"
   ]
  },
  {
   "cell_type": "code",
   "execution_count": 127,
   "metadata": {},
   "outputs": [],
   "source": [
    "client = QdrantClient(url=\"http://localhost:6333\")\n",
    "DENSE_MODEL = TextEmbedding(\n",
    "    \"sentence-transformers/paraphrase-multilingual-MiniLM-L12-v2\"\n",
    ")\n",
    "SPARSE_MODEL = Bm25(\"Qdrant/bm25\")"
   ]
  },
  {
   "cell_type": "code",
   "execution_count": 128,
   "metadata": {},
   "outputs": [],
   "source": [
    "collection_name = \"episodes_enhanced\""
   ]
  },
  {
   "cell_type": "code",
   "execution_count": 129,
   "metadata": {},
   "outputs": [],
   "source": [
    "query = \"تطوير المنتجعات في الشرقية\""
   ]
  },
  {
   "cell_type": "code",
   "execution_count": 145,
   "metadata": {},
   "outputs": [],
   "source": [
    "query = \"حياة في الإدارة\""
   ]
  },
  {
   "cell_type": "code",
   "execution_count": 146,
   "metadata": {},
   "outputs": [],
   "source": [
    "query_dense_vector = next(DENSE_MODEL.query_embed(query))\n",
    "query_sparse_vector = next(SPARSE_MODEL.query_embed(query))"
   ]
  },
  {
   "cell_type": "code",
   "execution_count": 147,
   "metadata": {},
   "outputs": [],
   "source": [
    "prefecth = [\n",
    "    # models.Prefetch(\n",
    "    #     query=query_dense_vector,\n",
    "    #     using=\"fast-paraphrase-multilingual-minilm-l12-v2\",\n",
    "    #     limit=15,\n",
    "    #     params=models.SearchParams(\n",
    "    #         hnsw_ef=256,\n",
    "    #         exact=True,\n",
    "    #     ),\n",
    "    # ),\n",
    "    models.Prefetch(\n",
    "        query=models.SparseVector(**query_sparse_vector.as_object()),\n",
    "        using=\"fast-sparse-bm25\",\n",
    "        limit=40,\n",
    "        params=models.SearchParams(hnsw_ef=256, exact=True),\n",
    "    ),\n",
    "    models.Prefetch(\n",
    "        query=models.SparseVector(**query_sparse_vector.as_object()),\n",
    "        using=\"fast-sparse-bm25\",\n",
    "        limit=40,\n",
    "        params=models.SearchParams(hnsw_ef=256, exact=True),\n",
    "        filter=models.Filter(\n",
    "            should=models.FieldCondition(\n",
    "                key=\"documents\", match=models.MatchAny(any=query.split())\n",
    "            )\n",
    "        ),\n",
    "    ),\n",
    "]\n",
    "\n",
    "result = client.query_points(\n",
    "    collection_name=collection_name,\n",
    "    prefetch=prefecth,\n",
    "    query=models.FusionQuery(fusion=models.Fusion.RRF),\n",
    "    limit=10,\n",
    "    with_payload=True,\n",
    "    search_params=models.SearchParams(hnsw_ef=256, exact=True),\n",
    ")\n",
    "\n",
    "results = [\n",
    "    HybridSearchResult(\n",
    "        podcast_id=r.payload[\"podcast_id\"],\n",
    "        episode_id=r.payload[\"episode_id\"],\n",
    "        episode_title=r.payload[\"document\"].split(\"\\n\")[1],\n",
    "        podcast_title=r.payload[\"podcast_name\"],\n",
    "        podcast_author=r.payload[\"podcast_author\"],\n",
    "        podcast_categoires=r.payload[\"podcast_categories\"],\n",
    "        sim_score=r.score,\n",
    "    )\n",
    "    for r in result.points\n",
    "]"
   ]
  },
  {
   "cell_type": "code",
   "execution_count": 148,
   "metadata": {},
   "outputs": [
    {
     "name": "stdout",
     "output_type": "stream",
     "text": [
      "podcast_id=55 episode_id=514 episode_title='توصية: كيف أصبحنا مدمني إنترنت' podcast_title='سوالف بزنس مع مشهور الدبيان' podcast_author='ثمانية/ thmanyah' podcast_categoires=['Business'] sim_score=0.5\n",
      "podcast_id=57 episode_id=619 episode_title='حياة في الإدارة: مطلق المريشد' podcast_title='فنجان مع عبدالرحمن أبومالح' podcast_author='ثمانية/ thmanyah' podcast_categoires=['Society', 'Culture'] sim_score=0.33333334\n",
      "podcast_id=57 episode_id=1542 episode_title='265: كيف أصبحنا مدمني إنترنت' podcast_title='فنجان مع عبدالرحمن أبومالح' podcast_author='ثمانية/ thmanyah' podcast_categoires=['Society', 'Culture'] sim_score=0.25\n",
      "podcast_id=57 episode_id=1599 episode_title='218: حياة في الإدارة مع مدحت عامر' podcast_title='فنجان مع عبدالرحمن أبومالح' podcast_author='ثمانية/ thmanyah' podcast_categoires=['Society', 'Culture'] sim_score=0.2\n",
      "podcast_id=53 episode_id=1288 episode_title='ما الذي سيحدث إن لم تسدد أمريكا ديونها' podcast_title='الفجر' podcast_author='ثمانية/thmanyah' podcast_categoires=['News', 'Daily'] sim_score=0.16666667\n",
      "podcast_id=57 episode_id=1559 episode_title='250: حوادث في الجو مع مدير الخطوط السعودية' podcast_title='فنجان مع عبدالرحمن أبومالح' podcast_author='ثمانية/ thmanyah' podcast_categoires=['Society', 'Culture'] sim_score=0.14285715\n",
      "podcast_id=57 episode_id=1778 episode_title='37: خالد الرشيد يجمع الضد والضد' podcast_title='فنجان مع عبدالرحمن أبومالح' podcast_author='ثمانية/ thmanyah' podcast_categoires=['Society', 'Culture'] sim_score=0.125\n",
      "podcast_id=63 episode_id=908 episode_title='لماذا نفشل في تحقيق أهدافنا' podcast_title='بودكاست مربّع | مع حاتم النجار' podcast_author='ثمانية/thmanyah' podcast_categoires=['Society', 'Culture', 'Personal', 'Journals'] sim_score=0.11111111\n",
      "podcast_id=122 episode_id=5093 episode_title='في دهاليز الإدارة' podcast_title='على بياض' podcast_author='Mics | مايكس' podcast_categoires=['Business', 'Sports'] sim_score=0.1\n",
      "podcast_id=83 episode_id=2173 episode_title='كيف تطورت الإدارة عبر التاريخ | محمد العامري' podcast_title='بترولي' podcast_author='إذاعة مختلف' podcast_categoires=['Business', 'Careers'] sim_score=0.09090909\n"
     ]
    }
   ],
   "source": [
    "for result in results:\n",
    "    # print(f\"{result.podcast_title}: {result.episode_title}\")\n",
    "    print(result)"
   ]
  },
  {
   "cell_type": "code",
   "execution_count": null,
   "metadata": {},
   "outputs": [],
   "source": [
    "# TODO: clean all text from arabic shit before embedding"
   ]
  },
  {
   "cell_type": "code",
   "execution_count": null,
   "metadata": {},
   "outputs": [],
   "source": []
  },
  {
   "cell_type": "code",
   "execution_count": null,
   "metadata": {},
   "outputs": [],
   "source": []
  }
 ],
 "metadata": {
  "kernelspec": {
   "display_name": "better-search",
   "language": "python",
   "name": "python3"
  },
  "language_info": {
   "codemirror_mode": {
    "name": "ipython",
    "version": 3
   },
   "file_extension": ".py",
   "mimetype": "text/x-python",
   "name": "python",
   "nbconvert_exporter": "python",
   "pygments_lexer": "ipython3",
   "version": "3.11.11"
  }
 },
 "nbformat": 4,
 "nbformat_minor": 2
}
